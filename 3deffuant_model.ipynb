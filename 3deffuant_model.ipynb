{
 "cells": [
  {
   "cell_type": "markdown",
   "id": "7b36f276",
   "metadata": {
    "id": "1P52D58mbkOj"
   },
   "source": [
    "<div style=\"text-align: right\"> <font color='Gray'> Sociofísica - 2023 </div>\n",
    "<div style=\"text-align: right\"> <font color='Gray'> Tarea N° 3 </div>\n",
    "<div style=\"text-align: right\"> <font color='Gray'> Constanza Rivas Ortega </div>\n",
    "\n",
    "    \n",
    "***"
   ]
  },
  {
   "cell_type": "markdown",
   "id": "359ac64d",
   "metadata": {},
   "source": [
    "## Modelo de Deffuant\n",
    "\n",
    "El modelo de Deffuant es un modelo de dinámica de opinión al igual que el $\\textit{voter model}$, pero con la particularidad de que las opiniones son continuas. Al igual que en los modelos discretos más simples, busca describir cuándo los individuos llegan a un consenso.\n",
    "\n",
    "El grupo de individuos inicialmente tiene opiniones que pueden variar entre dos extremos sin ser necesariamente blanco o negro. Cuando dos individuos se juntan y discuten, las opiniones de ambos se acercan hasta un punto medio entre las dos opiniones. Esto pasa siempre y cuando las opiniones sean lo suficientemente similares, porque si son opiniones muy distintas entonces los individuos no discuten y se queda cada uno con su opinión inicial. La evolución temporal de las opiniones está dada por\n",
    "\n",
    "$\\delta \\rho (x) = \\frac{d^3}{2} \\cdot \\mu \\cdot (\\mu -1) \\cdot \\frac{\\partial^2 \\rho^2}{\\partial x^2} $,\n",
    "\n",
    "donde $d$ es el umbral de opinión y $\\mu$ es el parámetro de convergencia. Los individuos discuten sus opiniones $x$ para llegar a un punto en común solamente cuando sus opiniones cumplen que $|x - x'| < d $.\n",
    "\n",
    "\n",
    "## Simulacion\n",
    "\n",
    "La simulación consta de una función con el modelo de Deffaunt en una sola dimensión, que luego es evaluada y graficada.\n",
    "\n",
    "La condición inicial está dada de forma completamente aleatoria, con cada agente tomando una opinión entre 0 y 1 de forma continua. El algoritmo elige dos agentes al azar, compara su diferencia de opinión, y si es que son menores al umbral $d$ dado, cambia las opiniones de ambos agentes y las guarda en una lista. Para replicar las figuras del paper, se consideró que 1000 interacciones entre los agentes corresponden a 1 paso temporal, y se realizaron 50000 pasos temporales.\n",
    "\n",
    "(La figura se demora un poco en cargar)"
   ]
  },
  {
   "cell_type": "code",
   "execution_count": 1,
   "id": "f5c30be4",
   "metadata": {},
   "outputs": [],
   "source": [
    "import numpy as np\n",
    "import matplotlib.pyplot as plt\n",
    "\n",
    "from datetime import datetime\n",
    "from tqdm.auto import tqdm\n",
    "\n",
    "\n",
    "def deffuant_model(N,ts,inter,d,mu):\n",
    "    '''\n",
    "    INPUT\n",
    "    N : numero de agentes\n",
    "    ts : numero de pasos temporales\n",
    "    inter : numero de interacciones que corresponden a un paso temporal\n",
    "    d : umbral de opinion\n",
    "    mu : parametro de convergencia\n",
    "\n",
    "    '''\n",
    "    \n",
    "    # INICIO CONTADOR TEMPORAL\n",
    "    tini = datetime.now()\n",
    "\n",
    "    # CONDICION INICIAL\n",
    "    agentes = list(np.random.uniform(0, 1, size=N)) # lista con agentes con opiniones aleatorias\n",
    "    agentes_ts = [0]*(ts) # lista que guardara el sistema en todos los pasos temporales\n",
    "    agentes_ts[0] = agentes.copy()\n",
    "    \n",
    "    interacciones = 0 # contador que lleva registro del numero de interacciones\n",
    "\n",
    "    #ALGORITMO\n",
    "    for t in tqdm(range(0,ts)):\n",
    "        i, j = np.random.randint(N), np.random.randint(N) # elige dos agentes aleatoriamente\n",
    "        if (np.abs(agentes[i]-agentes[j]) < d):\n",
    "            agentes[i] = agentes[i] + mu*(agentes[j] - agentes[i])\n",
    "            agentes[j] = agentes[j] + mu*(agentes[i] - agentes[j])\n",
    "            \n",
    "            interacciones += 1\n",
    "            \n",
    "        if interacciones >= inter:\n",
    "            interacciones = 0\n",
    "            agentes_ts[t] = agentes.copy()\n",
    "        else:\n",
    "            agentes_ts[t] = agentes.copy()\n",
    "        \n",
    "    # FIN CONTADOR TEMPORAL\n",
    "    tfin = datetime.now()\n",
    "    dtie = tfin - tini\n",
    "    print('Tiempo ocupado (h:m:s:ns):', dtie)\n",
    "    \n",
    "    return agentes_ts"
   ]
  },
  {
   "cell_type": "code",
   "execution_count": 2,
   "id": "ed5cbb1f",
   "metadata": {
    "scrolled": false
   },
   "outputs": [
    {
     "name": "stdout",
     "output_type": "stream",
     "text": [
      "Simulación caso consenso\n"
     ]
    },
    {
     "data": {
      "application/vnd.jupyter.widget-view+json": {
       "model_id": "c33f9ba0c7f14214af261f9dcb9c5bc8",
       "version_major": 2,
       "version_minor": 0
      },
      "text/plain": [
       "  0%|          | 0/50000 [00:00<?, ?it/s]"
      ]
     },
     "metadata": {},
     "output_type": "display_data"
    },
    {
     "name": "stdout",
     "output_type": "stream",
     "text": [
      "Tiempo ocupado (h:m:s:ns): 0:00:01.686469\n",
      "------------------------\n",
      "Simulación caso polarizado\n"
     ]
    },
    {
     "data": {
      "application/vnd.jupyter.widget-view+json": {
       "model_id": "21febd6305214c8797ae525a1506071e",
       "version_major": 2,
       "version_minor": 0
      },
      "text/plain": [
       "  0%|          | 0/50000 [00:00<?, ?it/s]"
      ]
     },
     "metadata": {},
     "output_type": "display_data"
    },
    {
     "name": "stdout",
     "output_type": "stream",
     "text": [
      "Tiempo ocupado (h:m:s:ns): 0:00:01.756424\n"
     ]
    },
    {
     "data": {
      "text/plain": [
       "<matplotlib.collections.PathCollection at 0x187f7565190>"
      ]
     },
     "execution_count": 2,
     "metadata": {},
     "output_type": "execute_result"
    },
    {
     "data": {
      "image/png": "[encoded data removed]",
      "text/plain": [
       "<Figure size 1500x500 with 2 Axes>"
      ]
     },
     "metadata": {},
     "output_type": "display_data"
    }
   ],
   "source": [
    "N = 1000\n",
    "ts = 50000\n",
    "\n",
    "print('Simulación caso consenso')\n",
    "consenso = deffuant_model(N,ts,N,0.5,0.5)\n",
    "\n",
    "print('------------------------')\n",
    "\n",
    "print('Simulación caso polarizado')\n",
    "polarizado = deffuant_model(N,ts,N,0.2,0.5)\n",
    "\n",
    "tiempos = [[i]*N for i in range(ts)]\n",
    "\n",
    "# CONFIGURACION FIGURA\n",
    "fig, (ax1, ax2) = plt.subplots(nrows = 1, ncols = 2, figsize = (15, 5))\n",
    "\n",
    "# FIGURA CONSENSO\n",
    "ax1.set_ylim([0.0,1.0])\n",
    "ax1.set_xlabel(\"Tiempo\")\n",
    "ax1.set_ylabel(\"Opinión\")\n",
    "ax1.set_title(\"Estado de consenso\")\n",
    "    \n",
    "# FIGURA ESTADO POLARIZADO\n",
    "ax2.set_ylim([0.0,1.0])\n",
    "ax2.set_xlabel(\"Tiempo\")\n",
    "ax2.set_ylabel(\"Opinión\")\n",
    "ax2.set_title(\"Estado polarizado\")\n",
    "\n",
    "ax1.scatter(tiempos,consenso, s=5, color='purple')\n",
    "ax2.scatter(tiempos,polarizado, s=5, color='purple')"
   ]
  }
 ],
 "metadata": {
  "kernelspec": {
   "display_name": "Python 3 (ipykernel)",
   "language": "python",
   "name": "python3"
  },
  "language_info": {
   "codemirror_mode": {
    "name": "ipython",
    "version": 3
   },
   "file_extension": ".py",
   "mimetype": "text/x-python",
   "name": "python",
   "nbconvert_exporter": "python",
   "pygments_lexer": "ipython3",
   "version": "3.9.16"
  }
 },
 "nbformat": 4,
 "nbformat_minor": 5
}
